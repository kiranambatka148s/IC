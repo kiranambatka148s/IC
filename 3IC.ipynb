{
 "cells": [
  {
   "cell_type": "raw",
   "id": "fb364ad8",
   "metadata": {},
   "source": [
    "3 . Image Classification"
   ]
  },
  {
   "cell_type": "code",
   "execution_count": null,
   "id": "e7d8a801",
   "metadata": {},
   "outputs": [],
   "source": [
    "import tensorflow as tf\n",
    "from tensorflow import keras\n",
    "from tensorflow.keras.models import Sequential\n",
    "from tensorflow.keras.layers import Conv2D,MaxPooling2D ,Dense,Flatten\n",
    "import numpy as np\n",
    "import matplotlib.pyplot as plt\n",
    "import random\n",
    "\n",
    "#Load Dataset\n",
    "X_train=np.loadtxt('C:/Users/priti/Desktop/Assignment_3/input.csv', delimiter =',')\n",
    "Y_train=np.loadtxt('C:/Users/priti/Desktop/Assignment_3/labels.csv',delimiter =',')\n",
    "X_test=np.loadtxt('C:/Users/priti/Desktop/Assignment_3/input_test.csv',delimiter =',')\n",
    "Y_test=np.loadtxt('C:/Users/priti/Desktop/Assignment_3/labels_test.csv', delimiter =',')\n",
    "\n",
    "#Reshaping appropriate size..removing comma\n",
    "X_train = X_train.reshape(len(X_train),100,100,3)\n",
    "Y_train= Y_train.reshape(len(Y_train),1)\n",
    "\n",
    "X_test = X_test.reshape(len(X_test),100,100,3)\n",
    "Y_test= Y_test.reshape(len(Y_test),1)\n",
    "\n",
    "print(\"Shape of X_train:\", X_train.shape)\n",
    "print(\"Shape of Y_train:\", Y_train.shape)\n",
    "print(\"Shape of X_test:\", X_test.shape)\n",
    "print(\"Shape of Y_test:\", Y_test.shape)\n",
    "X_train[1]\n",
    "\n",
    "#Feature Scaling rescale to 0 and 1\n",
    "X_train=X_train/255.0\n",
    "X_test = X_test/255.0\n",
    "X_train[1]\n",
    "\n",
    "#display image\n",
    "idx=random.randint(0,len(X_train))\n",
    "plt.imshow(X_train[idx,:])\n",
    "plt.show()\n",
    "\n",
    "#2  model buliding\n",
    "model= Sequential()\n",
    "model.add(Conv2D(32, (3,3), activation ='relu', input_shape = (100,100,3)))\n",
    "model.add(MaxPooling2D((2,2)))\n",
    "\n",
    "model.add(Conv2D(32,(3,3),activation='relu'))\n",
    "model.add(MaxPooling2D((2,2)))\n",
    "\n",
    "model.add(Flatten())\n",
    "model.add(Dense(64,activation = 'relu'))\n",
    "model.add(Dense(1,activation ='sigmoid'))\n",
    "model.compile(loss='binary_crossentropy',optimizer ='adam', metrics =['accuracy'])\n",
    "model.fit(X_train,Y_train,epochs=7, batch_size =64 )\n",
    "model.evaluate(X_test,Y_test)\n",
    "\n",
    "#Making Predictions\n",
    "idx2 = random.randint(0,len(Y_test))\n",
    "plt.imshow(X_test[idx2,:])\n",
    "plt.show()\n",
    "\n",
    "y_pred = model.predict(X_test[idx2,:].reshape(1,100,100,3))\n",
    "print(y_pred)\n",
    "y_pred = y_pred>0.5\n",
    "\n",
    "if(y_pred == 0):\n",
    "    pred ='dog'\n",
    "else:\n",
    "    pred='cat'\n",
    "print(\"Our model says it is a:\", pred)\n"
   ]
  }
 ],
 "metadata": {
  "kernelspec": {
   "display_name": "Python 3 (ipykernel)",
   "language": "python",
   "name": "python3"
  },
  "language_info": {
   "codemirror_mode": {
    "name": "ipython",
    "version": 3
   },
   "file_extension": ".py",
   "mimetype": "text/x-python",
   "name": "python",
   "nbconvert_exporter": "python",
   "pygments_lexer": "ipython3",
   "version": "3.9.13"
  }
 },
 "nbformat": 4,
 "nbformat_minor": 5
}
